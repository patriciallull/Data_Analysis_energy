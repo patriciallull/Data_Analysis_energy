{
 "cells": [
  {
   "cell_type": "markdown",
   "metadata": {},
   "source": [
    "## Homework 3\n",
    "### Patricia Llull Sperandio"
   ]
  },
  {
   "cell_type": "markdown",
   "metadata": {},
   "source": [
    "# Energy in Spain: dataset"
   ]
  },
  {
   "cell_type": "markdown",
   "metadata": {},
   "source": [
    "The \"energy.csv\" dataset contains timeseries regarding the power market in Spain.\n",
    "\n",
    "Explanation of columns:\n",
    "* datetime: moment at which the observation happened, in UTC (https://en.wikipedia.org/wiki/Coordinated_Universal_Time)\n",
    "* power_demand: total consumption of electricity in MWh (MegaWatt-hours) [consumption]\n",
    "* nuclear: total energy generated in nuclear power plants in MWh [power generation]\n",
    "* gas: total energy generated in gas powered plants in MWh [power generation]\n",
    "* solar: total energy generated in solar farms in MWh [power generation]\n",
    "* hydro: total energy generated in hydro dams in MWh [power generation]\n",
    "* coal: total energy generated in coal powered plants in MWh [power generation]\n",
    "* wind: total energy generated in wind farms in MWh [power generation]\n",
    "* spot_price: price at which the energy is sold (generation) or bought (consumption) in €/MWh [price]"
   ]
  },
  {
   "cell_type": "markdown",
   "metadata": {},
   "source": [
    "### Import needed libraries"
   ]
  },
  {
   "cell_type": "code",
   "execution_count": 1,
   "metadata": {},
   "outputs": [],
   "source": [
    "import pandas as pd\n",
    "import numpy as np\n",
    "import matplotlib.pyplot as plt\n",
    "%matplotlib inline"
   ]
  },
  {
   "cell_type": "markdown",
   "metadata": {},
   "source": [
    "### Get the data as a pandas Dataframe"
   ]
  },
  {
   "cell_type": "code",
   "execution_count": 2,
   "metadata": {},
   "outputs": [],
   "source": [
    "energyDF = pd.read_csv(\"energy.csv\", header=0)"
   ]
  },
  {
   "cell_type": "markdown",
   "metadata": {},
   "source": [
    "### Calculate the following"
   ]
  },
  {
   "cell_type": "markdown",
   "metadata": {},
   "source": [
    "#### Shape"
   ]
  },
  {
   "cell_type": "code",
   "execution_count": 3,
   "metadata": {},
   "outputs": [
    {
     "name": "stdout",
     "output_type": "stream",
     "text": [
      "there are 8737 rows and 9 columns in the dataframe\n"
     ]
    }
   ],
   "source": [
    "shape= energyDF.shape \n",
    "print(f\"there are {shape[0]} rows and {shape[1]} columns in the dataframe\")"
   ]
  },
  {
   "cell_type": "markdown",
   "metadata": {},
   "source": [
    "#### Create a list called \"features\" containing all the columns that are not \"datetime\""
   ]
  },
  {
   "cell_type": "code",
   "execution_count": 4,
   "metadata": {},
   "outputs": [
    {
     "name": "stdout",
     "output_type": "stream",
     "text": [
      "List of features: ['power_demand', 'nuclear', 'gas', 'solar', 'hydro', 'coal', 'wind', 'spot_price']\n"
     ]
    }
   ],
   "source": [
    "# use filter or list comprehensions or for loops or dark magic\n",
    "\n",
    "columns_list =list(energyDF.columns.values)\n",
    "features=[column for column in columns_list if 'datetime' not in column]\n",
    "\n",
    "print(f\"List of features: {features}\")\n",
    "\n",
    "##alternative with a function: \n",
    "#columns_list = energyDF.columns.values.tolist()\n",
    "\n",
    "#def remove_date(list_col):\n",
    " #   for column in list_col:\n",
    "  #      if column == 'datetime':\n",
    "   #         list_col.remove(column)\n",
    "    #    return list_col\n",
    "    \n",
    "#remove_date(columns_list)\n",
    "#columns_list"
   ]
  },
  {
   "cell_type": "markdown",
   "metadata": {},
   "source": [
    "#### How many NaN are there in the dataset?"
   ]
  },
  {
   "cell_type": "code",
   "execution_count": 5,
   "metadata": {
    "ExecuteTime": {
     "end_time": "2020-03-06T20:54:32.613280Z",
     "start_time": "2020-03-06T20:54:32.609720Z"
    }
   },
   "outputs": [
    {
     "name": "stdout",
     "output_type": "stream",
     "text": [
      "There are 2541 NA's in the dataset\n"
     ]
    }
   ],
   "source": [
    "# \"Dealing with missing values\" in the slides\n",
    "\n",
    "a=energyDF.isna().sum()\n",
    "print(f\"There are {a.sum()} NA's in the dataset\") #equivalent to energyDF.isna().sum().sum()\n"
   ]
  },
  {
   "cell_type": "markdown",
   "metadata": {},
   "source": [
    "#### Convert the \"datetime\" column into a Series containing datetime objects\n",
    "\n",
    "Pass utc=True as argument to your function of choice *cough* pd.to_dat... *cough*"
   ]
  },
  {
   "cell_type": "code",
   "execution_count": 6,
   "metadata": {},
   "outputs": [
    {
     "data": {
      "text/plain": [
       "pandas.core.series.Series"
      ]
     },
     "execution_count": 6,
     "metadata": {},
     "output_type": "execute_result"
    }
   ],
   "source": [
    "# pandas datetime functionalities\n",
    "energyDF['datetime'] = pd.to_datetime(energyDF['datetime'], utc=True)\n",
    "type(energyDF['datetime']) #check it's a series - okie"
   ]
  },
  {
   "cell_type": "markdown",
   "metadata": {
    "ExecuteTime": {
     "end_time": "2020-03-06T21:06:59.967351Z",
     "start_time": "2020-03-06T21:06:59.960999Z"
    }
   },
   "source": [
    "#### Create the following columns\n",
    "* year\n",
    "* month\n",
    "* day\n",
    "* hour\n",
    "* weekday"
   ]
  },
  {
   "cell_type": "code",
   "execution_count": 7,
   "metadata": {},
   "outputs": [
    {
     "name": "stdout",
     "output_type": "stream",
     "text": [
      "This is the new list of columns: ['datetime', 'power_demand', 'nuclear', 'gas', 'solar', 'hydro', 'coal', 'wind', 'spot_price', 'year', 'month', 'day', 'hour', 'weekday'].\n"
     ]
    }
   ],
   "source": [
    "# pandas datetime functionalities\n",
    "energyDF[\"year\"] = energyDF[\"datetime\"].dt.year\n",
    "energyDF[\"month\"] = energyDF[\"datetime\"].dt.month\n",
    "energyDF[\"day\"] = energyDF[\"datetime\"].dt.day\n",
    "energyDF[\"hour\"] = energyDF[\"datetime\"].dt.hour\n",
    "energyDF[\"weekday\"] = energyDF[\"datetime\"].dt.weekday\n",
    "\n",
    "print(f\"This is the new list of columns: {energyDF.columns.values.tolist()}.\")"
   ]
  },
  {
   "cell_type": "markdown",
   "metadata": {},
   "source": [
    "#### Create a \"weekend\" column containing True if day is Sat/Sun or False if day is Mon/Tue/... "
   ]
  },
  {
   "cell_type": "code",
   "execution_count": 8,
   "metadata": {
    "ExecuteTime": {
     "end_time": "2020-03-06T21:11:01.576113Z",
     "start_time": "2020-03-06T21:11:01.572485Z"
    }
   },
   "outputs": [
    {
     "data": {
      "text/html": [
       "<div>\n",
       "<style scoped>\n",
       "    .dataframe tbody tr th:only-of-type {\n",
       "        vertical-align: middle;\n",
       "    }\n",
       "\n",
       "    .dataframe tbody tr th {\n",
       "        vertical-align: top;\n",
       "    }\n",
       "\n",
       "    .dataframe thead th {\n",
       "        text-align: right;\n",
       "    }\n",
       "</style>\n",
       "<table border=\"1\" class=\"dataframe\">\n",
       "  <thead>\n",
       "    <tr style=\"text-align: right;\">\n",
       "      <th></th>\n",
       "      <th>datetime</th>\n",
       "      <th>power_demand</th>\n",
       "      <th>nuclear</th>\n",
       "      <th>gas</th>\n",
       "      <th>solar</th>\n",
       "      <th>hydro</th>\n",
       "      <th>coal</th>\n",
       "      <th>wind</th>\n",
       "      <th>spot_price</th>\n",
       "      <th>year</th>\n",
       "      <th>month</th>\n",
       "      <th>day</th>\n",
       "      <th>hour</th>\n",
       "      <th>weekday</th>\n",
       "      <th>weekend</th>\n",
       "    </tr>\n",
       "  </thead>\n",
       "  <tbody>\n",
       "    <tr>\n",
       "      <td>97</td>\n",
       "      <td>2019-01-05 00:00:00+00:00</td>\n",
       "      <td>25775.6</td>\n",
       "      <td>6110.0</td>\n",
       "      <td>3156.6</td>\n",
       "      <td>NaN</td>\n",
       "      <td>3486.4</td>\n",
       "      <td>3605.0</td>\n",
       "      <td>2336.5</td>\n",
       "      <td>69.50</td>\n",
       "      <td>2019</td>\n",
       "      <td>1</td>\n",
       "      <td>5</td>\n",
       "      <td>0</td>\n",
       "      <td>5</td>\n",
       "      <td>1</td>\n",
       "    </tr>\n",
       "    <tr>\n",
       "      <td>98</td>\n",
       "      <td>2019-01-05 01:00:00+00:00</td>\n",
       "      <td>24194.2</td>\n",
       "      <td>6110.0</td>\n",
       "      <td>2594.3</td>\n",
       "      <td>NaN</td>\n",
       "      <td>2461.3</td>\n",
       "      <td>3489.9</td>\n",
       "      <td>2421.4</td>\n",
       "      <td>68.07</td>\n",
       "      <td>2019</td>\n",
       "      <td>1</td>\n",
       "      <td>5</td>\n",
       "      <td>1</td>\n",
       "      <td>5</td>\n",
       "      <td>1</td>\n",
       "    </tr>\n",
       "    <tr>\n",
       "      <td>99</td>\n",
       "      <td>2019-01-05 02:00:00+00:00</td>\n",
       "      <td>23382.7</td>\n",
       "      <td>6110.0</td>\n",
       "      <td>2337.4</td>\n",
       "      <td>NaN</td>\n",
       "      <td>2089.2</td>\n",
       "      <td>3444.1</td>\n",
       "      <td>2628.5</td>\n",
       "      <td>66.00</td>\n",
       "      <td>2019</td>\n",
       "      <td>1</td>\n",
       "      <td>5</td>\n",
       "      <td>2</td>\n",
       "      <td>5</td>\n",
       "      <td>1</td>\n",
       "    </tr>\n",
       "    <tr>\n",
       "      <td>100</td>\n",
       "      <td>2019-01-05 03:00:00+00:00</td>\n",
       "      <td>23078.1</td>\n",
       "      <td>6110.0</td>\n",
       "      <td>2488.5</td>\n",
       "      <td>NaN</td>\n",
       "      <td>1653.2</td>\n",
       "      <td>3256.5</td>\n",
       "      <td>2878.7</td>\n",
       "      <td>63.93</td>\n",
       "      <td>2019</td>\n",
       "      <td>1</td>\n",
       "      <td>5</td>\n",
       "      <td>3</td>\n",
       "      <td>5</td>\n",
       "      <td>1</td>\n",
       "    </tr>\n",
       "    <tr>\n",
       "      <td>101</td>\n",
       "      <td>2019-01-05 04:00:00+00:00</td>\n",
       "      <td>22835.2</td>\n",
       "      <td>6110.0</td>\n",
       "      <td>2366.0</td>\n",
       "      <td>NaN</td>\n",
       "      <td>1358.3</td>\n",
       "      <td>3266.2</td>\n",
       "      <td>3169.8</td>\n",
       "      <td>62.00</td>\n",
       "      <td>2019</td>\n",
       "      <td>1</td>\n",
       "      <td>5</td>\n",
       "      <td>4</td>\n",
       "      <td>5</td>\n",
       "      <td>1</td>\n",
       "    </tr>\n",
       "    <tr>\n",
       "      <td>...</td>\n",
       "      <td>...</td>\n",
       "      <td>...</td>\n",
       "      <td>...</td>\n",
       "      <td>...</td>\n",
       "      <td>...</td>\n",
       "      <td>...</td>\n",
       "      <td>...</td>\n",
       "      <td>...</td>\n",
       "      <td>...</td>\n",
       "      <td>...</td>\n",
       "      <td>...</td>\n",
       "      <td>...</td>\n",
       "      <td>...</td>\n",
       "      <td>...</td>\n",
       "      <td>...</td>\n",
       "    </tr>\n",
       "    <tr>\n",
       "      <td>8708</td>\n",
       "      <td>2019-12-29 19:00:00+00:00</td>\n",
       "      <td>28772.6</td>\n",
       "      <td>7103.5</td>\n",
       "      <td>3994.1</td>\n",
       "      <td>0.1</td>\n",
       "      <td>8020.5</td>\n",
       "      <td>430.0</td>\n",
       "      <td>2025.4</td>\n",
       "      <td>40.00</td>\n",
       "      <td>2019</td>\n",
       "      <td>12</td>\n",
       "      <td>29</td>\n",
       "      <td>19</td>\n",
       "      <td>6</td>\n",
       "      <td>1</td>\n",
       "    </tr>\n",
       "    <tr>\n",
       "      <td>8709</td>\n",
       "      <td>2019-12-29 20:00:00+00:00</td>\n",
       "      <td>28829.4</td>\n",
       "      <td>7104.5</td>\n",
       "      <td>3845.9</td>\n",
       "      <td>NaN</td>\n",
       "      <td>7775.8</td>\n",
       "      <td>425.0</td>\n",
       "      <td>2026.8</td>\n",
       "      <td>41.15</td>\n",
       "      <td>2019</td>\n",
       "      <td>12</td>\n",
       "      <td>29</td>\n",
       "      <td>20</td>\n",
       "      <td>6</td>\n",
       "      <td>1</td>\n",
       "    </tr>\n",
       "    <tr>\n",
       "      <td>8710</td>\n",
       "      <td>2019-12-29 21:00:00+00:00</td>\n",
       "      <td>27649.0</td>\n",
       "      <td>7103.5</td>\n",
       "      <td>3808.2</td>\n",
       "      <td>NaN</td>\n",
       "      <td>7397.3</td>\n",
       "      <td>425.0</td>\n",
       "      <td>2055.0</td>\n",
       "      <td>39.06</td>\n",
       "      <td>2019</td>\n",
       "      <td>12</td>\n",
       "      <td>29</td>\n",
       "      <td>21</td>\n",
       "      <td>6</td>\n",
       "      <td>1</td>\n",
       "    </tr>\n",
       "    <tr>\n",
       "      <td>8711</td>\n",
       "      <td>2019-12-29 22:00:00+00:00</td>\n",
       "      <td>25885.3</td>\n",
       "      <td>7106.4</td>\n",
       "      <td>3509.7</td>\n",
       "      <td>NaN</td>\n",
       "      <td>6954.4</td>\n",
       "      <td>412.0</td>\n",
       "      <td>1983.1</td>\n",
       "      <td>34.90</td>\n",
       "      <td>2019</td>\n",
       "      <td>12</td>\n",
       "      <td>29</td>\n",
       "      <td>22</td>\n",
       "      <td>6</td>\n",
       "      <td>1</td>\n",
       "    </tr>\n",
       "    <tr>\n",
       "      <td>8712</td>\n",
       "      <td>2019-12-29 23:00:00+00:00</td>\n",
       "      <td>23034.5</td>\n",
       "      <td>7100.3</td>\n",
       "      <td>2538.4</td>\n",
       "      <td>NaN</td>\n",
       "      <td>6258.1</td>\n",
       "      <td>387.0</td>\n",
       "      <td>1955.4</td>\n",
       "      <td>33.10</td>\n",
       "      <td>2019</td>\n",
       "      <td>12</td>\n",
       "      <td>29</td>\n",
       "      <td>23</td>\n",
       "      <td>6</td>\n",
       "      <td>1</td>\n",
       "    </tr>\n",
       "  </tbody>\n",
       "</table>\n",
       "<p>2496 rows × 15 columns</p>\n",
       "</div>"
      ],
      "text/plain": [
       "                      datetime  power_demand  nuclear     gas  solar   hydro  \\\n",
       "97   2019-01-05 00:00:00+00:00       25775.6   6110.0  3156.6    NaN  3486.4   \n",
       "98   2019-01-05 01:00:00+00:00       24194.2   6110.0  2594.3    NaN  2461.3   \n",
       "99   2019-01-05 02:00:00+00:00       23382.7   6110.0  2337.4    NaN  2089.2   \n",
       "100  2019-01-05 03:00:00+00:00       23078.1   6110.0  2488.5    NaN  1653.2   \n",
       "101  2019-01-05 04:00:00+00:00       22835.2   6110.0  2366.0    NaN  1358.3   \n",
       "...                        ...           ...      ...     ...    ...     ...   \n",
       "8708 2019-12-29 19:00:00+00:00       28772.6   7103.5  3994.1    0.1  8020.5   \n",
       "8709 2019-12-29 20:00:00+00:00       28829.4   7104.5  3845.9    NaN  7775.8   \n",
       "8710 2019-12-29 21:00:00+00:00       27649.0   7103.5  3808.2    NaN  7397.3   \n",
       "8711 2019-12-29 22:00:00+00:00       25885.3   7106.4  3509.7    NaN  6954.4   \n",
       "8712 2019-12-29 23:00:00+00:00       23034.5   7100.3  2538.4    NaN  6258.1   \n",
       "\n",
       "        coal    wind  spot_price  year  month  day  hour  weekday  weekend  \n",
       "97    3605.0  2336.5       69.50  2019      1    5     0        5        1  \n",
       "98    3489.9  2421.4       68.07  2019      1    5     1        5        1  \n",
       "99    3444.1  2628.5       66.00  2019      1    5     2        5        1  \n",
       "100   3256.5  2878.7       63.93  2019      1    5     3        5        1  \n",
       "101   3266.2  3169.8       62.00  2019      1    5     4        5        1  \n",
       "...      ...     ...         ...   ...    ...  ...   ...      ...      ...  \n",
       "8708   430.0  2025.4       40.00  2019     12   29    19        6        1  \n",
       "8709   425.0  2026.8       41.15  2019     12   29    20        6        1  \n",
       "8710   425.0  2055.0       39.06  2019     12   29    21        6        1  \n",
       "8711   412.0  1983.1       34.90  2019     12   29    22        6        1  \n",
       "8712   387.0  1955.4       33.10  2019     12   29    23        6        1  \n",
       "\n",
       "[2496 rows x 15 columns]"
      ]
     },
     "execution_count": 8,
     "metadata": {},
     "output_type": "execute_result"
    }
   ],
   "source": [
    "# feature engineering: use your already beloved (map + lambda functions) or list comprehensions\n",
    "\n",
    "energyDF[\"weekend\"] = energyDF[\"weekday\"].map(lambda x: x>4).astype(int) #energyDF[\"weekday\"] starts at 0!! so Sat/Sun = 5&6\n",
    "\n",
    "energyDF[energyDF[\"weekend\"] ==1] #check if there are one's"
   ]
  },
  {
   "cell_type": "markdown",
   "metadata": {},
   "source": [
    "#### Calculate the average values per weekday for the columns in \"features\" list (1 p)"
   ]
  },
  {
   "cell_type": "code",
   "execution_count": 9,
   "metadata": {
    "ExecuteTime": {
     "end_time": "2020-03-06T21:16:03.022096Z",
     "start_time": "2020-03-06T21:16:03.018931Z"
    }
   },
   "outputs": [
    {
     "data": {
      "text/html": [
       "<div>\n",
       "<style scoped>\n",
       "    .dataframe tbody tr th:only-of-type {\n",
       "        vertical-align: middle;\n",
       "    }\n",
       "\n",
       "    .dataframe tbody tr th {\n",
       "        vertical-align: top;\n",
       "    }\n",
       "\n",
       "    .dataframe thead th {\n",
       "        text-align: right;\n",
       "    }\n",
       "</style>\n",
       "<table border=\"1\" class=\"dataframe\">\n",
       "  <thead>\n",
       "    <tr style=\"text-align: right;\">\n",
       "      <th></th>\n",
       "      <th>power_demand</th>\n",
       "      <th>nuclear</th>\n",
       "      <th>gas</th>\n",
       "      <th>solar</th>\n",
       "      <th>hydro</th>\n",
       "      <th>coal</th>\n",
       "      <th>wind</th>\n",
       "      <th>spot_price</th>\n",
       "    </tr>\n",
       "    <tr>\n",
       "      <th>weekday</th>\n",
       "      <th></th>\n",
       "      <th></th>\n",
       "      <th></th>\n",
       "      <th></th>\n",
       "      <th></th>\n",
       "      <th></th>\n",
       "      <th></th>\n",
       "      <th></th>\n",
       "    </tr>\n",
       "  </thead>\n",
       "  <tbody>\n",
       "    <tr>\n",
       "      <td>0</td>\n",
       "      <td>29207.582306</td>\n",
       "      <td>6390.911769</td>\n",
       "      <td>6483.540032</td>\n",
       "      <td>1382.902420</td>\n",
       "      <td>2919.916173</td>\n",
       "      <td>1282.017737</td>\n",
       "      <td>5846.823379</td>\n",
       "      <td>49.239688</td>\n",
       "    </tr>\n",
       "    <tr>\n",
       "      <td>1</td>\n",
       "      <td>29760.259375</td>\n",
       "      <td>6391.128526</td>\n",
       "      <td>6716.402003</td>\n",
       "      <td>1400.603377</td>\n",
       "      <td>2870.550401</td>\n",
       "      <td>1478.384477</td>\n",
       "      <td>5795.669712</td>\n",
       "      <td>50.202580</td>\n",
       "    </tr>\n",
       "    <tr>\n",
       "      <td>2</td>\n",
       "      <td>29814.897436</td>\n",
       "      <td>6399.605689</td>\n",
       "      <td>6448.102244</td>\n",
       "      <td>1386.101098</td>\n",
       "      <td>2856.419471</td>\n",
       "      <td>1444.195997</td>\n",
       "      <td>6451.173798</td>\n",
       "      <td>48.811442</td>\n",
       "    </tr>\n",
       "    <tr>\n",
       "      <td>3</td>\n",
       "      <td>29913.133253</td>\n",
       "      <td>6408.186458</td>\n",
       "      <td>6404.798397</td>\n",
       "      <td>1396.425420</td>\n",
       "      <td>2904.324439</td>\n",
       "      <td>1364.827287</td>\n",
       "      <td>6452.391747</td>\n",
       "      <td>48.817388</td>\n",
       "    </tr>\n",
       "    <tr>\n",
       "      <td>4</td>\n",
       "      <td>29587.505689</td>\n",
       "      <td>6404.227003</td>\n",
       "      <td>6362.183894</td>\n",
       "      <td>1437.464229</td>\n",
       "      <td>3027.978526</td>\n",
       "      <td>1294.994618</td>\n",
       "      <td>6071.198638</td>\n",
       "      <td>48.785793</td>\n",
       "    </tr>\n",
       "    <tr>\n",
       "      <td>5</td>\n",
       "      <td>26545.257933</td>\n",
       "      <td>6325.359535</td>\n",
       "      <td>4965.318109</td>\n",
       "      <td>1418.782988</td>\n",
       "      <td>2604.202644</td>\n",
       "      <td>1057.801583</td>\n",
       "      <td>5826.916346</td>\n",
       "      <td>45.429864</td>\n",
       "    </tr>\n",
       "    <tr>\n",
       "      <td>6</td>\n",
       "      <td>24759.381490</td>\n",
       "      <td>6353.419231</td>\n",
       "      <td>4089.475000</td>\n",
       "      <td>1373.876790</td>\n",
       "      <td>2439.531651</td>\n",
       "      <td>912.083292</td>\n",
       "      <td>6061.215064</td>\n",
       "      <td>42.653966</td>\n",
       "    </tr>\n",
       "  </tbody>\n",
       "</table>\n",
       "</div>"
      ],
      "text/plain": [
       "         power_demand      nuclear          gas        solar        hydro  \\\n",
       "weekday                                                                     \n",
       "0        29207.582306  6390.911769  6483.540032  1382.902420  2919.916173   \n",
       "1        29760.259375  6391.128526  6716.402003  1400.603377  2870.550401   \n",
       "2        29814.897436  6399.605689  6448.102244  1386.101098  2856.419471   \n",
       "3        29913.133253  6408.186458  6404.798397  1396.425420  2904.324439   \n",
       "4        29587.505689  6404.227003  6362.183894  1437.464229  3027.978526   \n",
       "5        26545.257933  6325.359535  4965.318109  1418.782988  2604.202644   \n",
       "6        24759.381490  6353.419231  4089.475000  1373.876790  2439.531651   \n",
       "\n",
       "                coal         wind  spot_price  \n",
       "weekday                                        \n",
       "0        1282.017737  5846.823379   49.239688  \n",
       "1        1478.384477  5795.669712   50.202580  \n",
       "2        1444.195997  6451.173798   48.811442  \n",
       "3        1364.827287  6452.391747   48.817388  \n",
       "4        1294.994618  6071.198638   48.785793  \n",
       "5        1057.801583  5826.916346   45.429864  \n",
       "6         912.083292  6061.215064   42.653966  "
      ]
     },
     "execution_count": 9,
     "metadata": {},
     "output_type": "execute_result"
    }
   ],
   "source": [
    "# features is the list you created in the beginning\n",
    "# we are going to use the list to apply the average calc (average power demand) & using weekday column\n",
    "\n",
    "    #groupby[\"weekday\"] & mean() for features\n",
    "\n",
    "energyDF[\"weekday\"].nunique() # we have 7 days a week - okie\n",
    "\n",
    "average_values = energyDF.groupby([\"weekday\"]).mean()[features] #apply only to features within the list created earlier\n",
    "average_values"
   ]
  },
  {
   "cell_type": "markdown",
   "metadata": {},
   "source": [
    "#### Create a function that returns the season out of a datetime object\n",
    "Use that function to create a \"season\" column"
   ]
  },
  {
   "cell_type": "code",
   "execution_count": 10,
   "metadata": {},
   "outputs": [
    {
     "data": {
      "text/html": [
       "<div>\n",
       "<style scoped>\n",
       "    .dataframe tbody tr th:only-of-type {\n",
       "        vertical-align: middle;\n",
       "    }\n",
       "\n",
       "    .dataframe tbody tr th {\n",
       "        vertical-align: top;\n",
       "    }\n",
       "\n",
       "    .dataframe thead th {\n",
       "        text-align: right;\n",
       "    }\n",
       "</style>\n",
       "<table border=\"1\" class=\"dataframe\">\n",
       "  <thead>\n",
       "    <tr style=\"text-align: right;\">\n",
       "      <th></th>\n",
       "      <th>datetime</th>\n",
       "      <th>power_demand</th>\n",
       "      <th>nuclear</th>\n",
       "      <th>gas</th>\n",
       "      <th>solar</th>\n",
       "      <th>hydro</th>\n",
       "      <th>coal</th>\n",
       "      <th>wind</th>\n",
       "      <th>spot_price</th>\n",
       "      <th>year</th>\n",
       "      <th>month</th>\n",
       "      <th>day</th>\n",
       "      <th>hour</th>\n",
       "      <th>weekday</th>\n",
       "      <th>weekend</th>\n",
       "      <th>season</th>\n",
       "    </tr>\n",
       "  </thead>\n",
       "  <tbody>\n",
       "    <tr>\n",
       "      <td>0</td>\n",
       "      <td>2018-12-31 23:00:00+00:00</td>\n",
       "      <td>23251.2</td>\n",
       "      <td>6059.2</td>\n",
       "      <td>2954.0</td>\n",
       "      <td>7.1</td>\n",
       "      <td>3202.8</td>\n",
       "      <td>1867.0</td>\n",
       "      <td>3830.3</td>\n",
       "      <td>66.88</td>\n",
       "      <td>2018</td>\n",
       "      <td>12</td>\n",
       "      <td>31</td>\n",
       "      <td>23</td>\n",
       "      <td>0</td>\n",
       "      <td>0</td>\n",
       "      <td>winter</td>\n",
       "    </tr>\n",
       "  </tbody>\n",
       "</table>\n",
       "</div>"
      ],
      "text/plain": [
       "                   datetime  power_demand  nuclear     gas  solar   hydro  \\\n",
       "0 2018-12-31 23:00:00+00:00       23251.2   6059.2  2954.0    7.1  3202.8   \n",
       "\n",
       "     coal    wind  spot_price  year  month  day  hour  weekday  weekend  \\\n",
       "0  1867.0  3830.3       66.88  2018     12   31    23        0        0   \n",
       "\n",
       "   season  \n",
       "0  winter  "
      ]
     },
     "execution_count": 10,
     "metadata": {},
     "output_type": "execute_result"
    }
   ],
   "source": [
    "from datetime import date, datetime\n",
    "\n",
    "def get_season(date_to_convert):\n",
    "    year = date_to_convert.year\n",
    "    seasons = [\n",
    "        (\"winter\", date(year, 12, 21), date(year, 12, 31)),\n",
    "        (\"summer\", date(year, 6, 21), date(year, 9, 20)),\n",
    "        (\"fall\", date(year, 9, 21), date(year, 12, 20)),\n",
    "        (\"winter\", date(year, 1, 1), date(year, 3, 20)),\n",
    "        (\"spring\", date(year, 3, 21), date(year, 6, 20))\n",
    "    ]\n",
    "    \n",
    "    for season in seasons:\n",
    "        if date_to_convert>=season[1] and date_to_convert<=season[2]:\n",
    "            return season[0]\n",
    "        \n",
    "energyDF[\"season\"] = energyDF[\"datetime\"].map(get_season)\n",
    "        \n",
    "energyDF[energyDF[\"year\"]==2018]"
   ]
  },
  {
   "cell_type": "markdown",
   "metadata": {},
   "source": [
    "#### Calculate average demand and spot_price for each season"
   ]
  },
  {
   "cell_type": "code",
   "execution_count": 11,
   "metadata": {},
   "outputs": [
    {
     "data": {
      "text/html": [
       "<div>\n",
       "<style scoped>\n",
       "    .dataframe tbody tr th:only-of-type {\n",
       "        vertical-align: middle;\n",
       "    }\n",
       "\n",
       "    .dataframe tbody tr th {\n",
       "        vertical-align: top;\n",
       "    }\n",
       "\n",
       "    .dataframe thead th {\n",
       "        text-align: right;\n",
       "    }\n",
       "</style>\n",
       "<table border=\"1\" class=\"dataframe\">\n",
       "  <thead>\n",
       "    <tr style=\"text-align: right;\">\n",
       "      <th></th>\n",
       "      <th>power_demand</th>\n",
       "      <th>spot_price</th>\n",
       "    </tr>\n",
       "    <tr>\n",
       "      <th>season</th>\n",
       "      <th></th>\n",
       "      <th></th>\n",
       "    </tr>\n",
       "  </thead>\n",
       "  <tbody>\n",
       "    <tr>\n",
       "      <td>fall</td>\n",
       "      <td>28212.96</td>\n",
       "      <td>43.51</td>\n",
       "    </tr>\n",
       "    <tr>\n",
       "      <td>spring</td>\n",
       "      <td>27112.77</td>\n",
       "      <td>48.81</td>\n",
       "    </tr>\n",
       "    <tr>\n",
       "      <td>summer</td>\n",
       "      <td>29269.89</td>\n",
       "      <td>46.60</td>\n",
       "    </tr>\n",
       "    <tr>\n",
       "      <td>winter</td>\n",
       "      <td>29482.94</td>\n",
       "      <td>52.00</td>\n",
       "    </tr>\n",
       "  </tbody>\n",
       "</table>\n",
       "</div>"
      ],
      "text/plain": [
       "        power_demand  spot_price\n",
       "season                          \n",
       "fall        28212.96       43.51\n",
       "spring      27112.77       48.81\n",
       "summer      29269.89       46.60\n",
       "winter      29482.94       52.00"
      ]
     },
     "execution_count": 11,
     "metadata": {},
     "output_type": "execute_result"
    }
   ],
   "source": [
    "features_for_seasons = [column for column in columns_list if 'power_demand' in column or 'spot_price' in column]\n",
    "seasonal_pricesDF = energyDF.groupby([\"season\"]).mean().round(2)[features_for_seasons]\n",
    "seasonal_pricesDF"
   ]
  },
  {
   "cell_type": "markdown",
   "metadata": {},
   "source": [
    "#### Why are there so many NaN values in the \"solar\" column?"
   ]
  },
  {
   "cell_type": "markdown",
   "metadata": {},
   "source": [
    "### answer\n",
    "There are many Na's in the column \"solar\" because the production is dependent time of day and weather. The production stops at night (output is 0) and production is smaller if it is cloudy or rainy. The variation across seasons is not huge, and that's because there can be sunny days in any season."
   ]
  },
  {
   "cell_type": "code",
   "execution_count": 12,
   "metadata": {},
   "outputs": [
    {
     "data": {
      "text/plain": [
       "datetime          0\n",
       "power_demand      0\n",
       "nuclear           0\n",
       "gas               0\n",
       "solar           624\n",
       "hydro             0\n",
       "coal              0\n",
       "wind              0\n",
       "spot_price        0\n",
       "year              0\n",
       "month             0\n",
       "day               0\n",
       "hour              0\n",
       "weekday           0\n",
       "weekend           0\n",
       "season            0\n",
       "dtype: int64"
      ]
     },
     "execution_count": 12,
     "metadata": {},
     "output_type": "execute_result"
    }
   ],
   "source": [
    "energyDF[energyDF[\"solar\"].isna()]\n",
    "\n",
    "#count the number of NA's in winter vs. summer\n",
    "winterDF = energyDF[energyDF[\"season\"]=='winter']\n",
    "winterDF.isna().sum()\n",
    "\n",
    "summerDF= energyDF[energyDF[\"season\"]==\"summer\"]\n",
    "summerDF.isna().sum()"
   ]
  },
  {
   "cell_type": "markdown",
   "metadata": {},
   "source": [
    "#### Calculate the total income for each type of power generation and total costs for consumption\n",
    "Return a dictionary like the following one:\n",
    "\n",
    "{ \"consumption\": cost_consumption, \"wind\": income_wind, \"solar\": income_solar, \"gas\": income_gas, ...} "
   ]
  },
  {
   "cell_type": "code",
   "execution_count": 13,
   "metadata": {},
   "outputs": [
    {
     "data": {
      "text/plain": [
       "{'power_demand': 12115827296.22,\n",
       " 'nuclear': 2674992442.17,\n",
       " 'gas': 2577997502.64,\n",
       " 'solar': 430157479.78,\n",
       " 'hydro': 1179143190.7,\n",
       " 'coal': 591516973.36,\n",
       " 'wind': 2412917661.56}"
      ]
     },
     "execution_count": 13,
     "metadata": {},
     "output_type": "execute_result"
    }
   ],
   "source": [
    "# Income = energy_generated * price\n",
    "# Cost = energy_bought * price\n",
    "\n",
    "#income nuclear = sum of (row nuclear* spot_price that day) for all rows \n",
    "income = {}\n",
    "features_list_2= [\"power_demand\",\"nuclear\",\"gas\",\"solar\", \"hydro\",\"coal\",\"wind\"]\n",
    "features_new = [element for element in features if 'spot_price' not in element]\n",
    "for element in features_new:\n",
    "    income[element] = np.sum(energyDF[element] * energyDF[\"spot_price\"]).round(2)\n",
    "income\n"
   ]
  },
  {
   "cell_type": "markdown",
   "metadata": {},
   "source": [
    "#### Create two plots: \n",
    "* Hourly average power demand\n",
    "* Hourly average spot price"
   ]
  },
  {
   "cell_type": "code",
   "execution_count": 14,
   "metadata": {},
   "outputs": [
    {
     "data": {
      "text/html": [
       "<div>\n",
       "<style scoped>\n",
       "    .dataframe tbody tr th:only-of-type {\n",
       "        vertical-align: middle;\n",
       "    }\n",
       "\n",
       "    .dataframe tbody tr th {\n",
       "        vertical-align: top;\n",
       "    }\n",
       "\n",
       "    .dataframe thead th {\n",
       "        text-align: right;\n",
       "    }\n",
       "</style>\n",
       "<table border=\"1\" class=\"dataframe\">\n",
       "  <thead>\n",
       "    <tr style=\"text-align: right;\">\n",
       "      <th></th>\n",
       "      <th>power_demand</th>\n",
       "      <th>spot_price</th>\n",
       "    </tr>\n",
       "    <tr>\n",
       "      <th>hour</th>\n",
       "      <th></th>\n",
       "      <th></th>\n",
       "    </tr>\n",
       "  </thead>\n",
       "  <tbody>\n",
       "    <tr>\n",
       "      <td>0</td>\n",
       "      <td>23642.097527</td>\n",
       "      <td>43.228049</td>\n",
       "    </tr>\n",
       "    <tr>\n",
       "      <td>1</td>\n",
       "      <td>22853.982692</td>\n",
       "      <td>41.596648</td>\n",
       "    </tr>\n",
       "    <tr>\n",
       "      <td>2</td>\n",
       "      <td>22526.803846</td>\n",
       "      <td>40.770907</td>\n",
       "    </tr>\n",
       "    <tr>\n",
       "      <td>3</td>\n",
       "      <td>22637.725275</td>\n",
       "      <td>41.056181</td>\n",
       "    </tr>\n",
       "    <tr>\n",
       "      <td>4</td>\n",
       "      <td>23720.157692</td>\n",
       "      <td>42.676758</td>\n",
       "    </tr>\n",
       "    <tr>\n",
       "      <td>5</td>\n",
       "      <td>25701.133242</td>\n",
       "      <td>45.745549</td>\n",
       "    </tr>\n",
       "    <tr>\n",
       "      <td>6</td>\n",
       "      <td>28009.612088</td>\n",
       "      <td>49.126511</td>\n",
       "    </tr>\n",
       "    <tr>\n",
       "      <td>7</td>\n",
       "      <td>29780.119780</td>\n",
       "      <td>50.587115</td>\n",
       "    </tr>\n",
       "    <tr>\n",
       "      <td>8</td>\n",
       "      <td>31020.076374</td>\n",
       "      <td>50.875495</td>\n",
       "    </tr>\n",
       "    <tr>\n",
       "      <td>9</td>\n",
       "      <td>31736.776648</td>\n",
       "      <td>50.568736</td>\n",
       "    </tr>\n",
       "    <tr>\n",
       "      <td>10</td>\n",
       "      <td>32086.111813</td>\n",
       "      <td>50.155797</td>\n",
       "    </tr>\n",
       "    <tr>\n",
       "      <td>11</td>\n",
       "      <td>32139.752473</td>\n",
       "      <td>49.756484</td>\n",
       "    </tr>\n",
       "    <tr>\n",
       "      <td>12</td>\n",
       "      <td>31749.459066</td>\n",
       "      <td>48.464478</td>\n",
       "    </tr>\n",
       "    <tr>\n",
       "      <td>13</td>\n",
       "      <td>30932.168681</td>\n",
       "      <td>46.693269</td>\n",
       "    </tr>\n",
       "    <tr>\n",
       "      <td>14</td>\n",
       "      <td>30375.486264</td>\n",
       "      <td>45.691511</td>\n",
       "    </tr>\n",
       "    <tr>\n",
       "      <td>15</td>\n",
       "      <td>30061.284890</td>\n",
       "      <td>46.228956</td>\n",
       "    </tr>\n",
       "    <tr>\n",
       "      <td>16</td>\n",
       "      <td>29946.327747</td>\n",
       "      <td>48.062143</td>\n",
       "    </tr>\n",
       "    <tr>\n",
       "      <td>17</td>\n",
       "      <td>30482.866758</td>\n",
       "      <td>50.687940</td>\n",
       "    </tr>\n",
       "    <tr>\n",
       "      <td>18</td>\n",
       "      <td>31432.278571</td>\n",
       "      <td>52.903049</td>\n",
       "    </tr>\n",
       "    <tr>\n",
       "      <td>19</td>\n",
       "      <td>32046.872527</td>\n",
       "      <td>53.990357</td>\n",
       "    </tr>\n",
       "    <tr>\n",
       "      <td>20</td>\n",
       "      <td>30941.186813</td>\n",
       "      <td>52.152335</td>\n",
       "    </tr>\n",
       "    <tr>\n",
       "      <td>21</td>\n",
       "      <td>28773.959615</td>\n",
       "      <td>49.537253</td>\n",
       "    </tr>\n",
       "    <tr>\n",
       "      <td>22</td>\n",
       "      <td>26747.503297</td>\n",
       "      <td>48.440000</td>\n",
       "    </tr>\n",
       "    <tr>\n",
       "      <td>23</td>\n",
       "      <td>24969.673151</td>\n",
       "      <td>45.953123</td>\n",
       "    </tr>\n",
       "  </tbody>\n",
       "</table>\n",
       "</div>"
      ],
      "text/plain": [
       "      power_demand  spot_price\n",
       "hour                          \n",
       "0     23642.097527   43.228049\n",
       "1     22853.982692   41.596648\n",
       "2     22526.803846   40.770907\n",
       "3     22637.725275   41.056181\n",
       "4     23720.157692   42.676758\n",
       "5     25701.133242   45.745549\n",
       "6     28009.612088   49.126511\n",
       "7     29780.119780   50.587115\n",
       "8     31020.076374   50.875495\n",
       "9     31736.776648   50.568736\n",
       "10    32086.111813   50.155797\n",
       "11    32139.752473   49.756484\n",
       "12    31749.459066   48.464478\n",
       "13    30932.168681   46.693269\n",
       "14    30375.486264   45.691511\n",
       "15    30061.284890   46.228956\n",
       "16    29946.327747   48.062143\n",
       "17    30482.866758   50.687940\n",
       "18    31432.278571   52.903049\n",
       "19    32046.872527   53.990357\n",
       "20    30941.186813   52.152335\n",
       "21    28773.959615   49.537253\n",
       "22    26747.503297   48.440000\n",
       "23    24969.673151   45.953123"
      ]
     },
     "execution_count": 14,
     "metadata": {},
     "output_type": "execute_result"
    }
   ],
   "source": [
    "average_demands = energyDF.groupby(['hour']).mean() [[column for column in columns_list if 'power_demand' in column or 'spot_price' in column]]\n",
    "average_demands\n",
    "#or: average_demands = energyDF.groupby(['hour']).mean() [['power_demand','spot_price']]\n"
   ]
  },
  {
   "cell_type": "code",
   "execution_count": 29,
   "metadata": {},
   "outputs": [
    {
     "data": {
      "image/png": "[encoded data removed]",
      "text/plain": [
       "<Figure size 1080x360 with 1 Axes>"
      ]
     },
     "metadata": {
      "needs_background": "light"
     },
     "output_type": "display_data"
    },
    {
     "name": "stdout",
     "output_type": "stream",
     "text": [
      "I know most of the stuff here is not necessary, I just wanted to try to add things to the graph!!\n"
     ]
    }
   ],
   "source": [
    "#AVERAGE POWER DEMAND\n",
    "average_demands = energyDF.groupby(['hour']).mean() [['power_demand','spot_price']]\n",
    "index=average_demands.index #to get the hours \n",
    "plt.figure(figsize=(15,5))\n",
    "plt.plot(index, average_demands['power_demand'], color='plum')\n",
    "plt.title(\"Hourly average power demand\", color= 'slateblue', fontweight='bold', fontsize=14)\n",
    "plt.text(9,32067, \"peak1\")\n",
    "plt.text(19, 32000, \"peak2\")\n",
    "plt.xlabel(\"Hour\")\n",
    "plt.ylabel(\"avg_demand\")\n",
    "plt.show()\n",
    "##or (from notebook data_analysis_case): energyDF.groupby('hour').mean()['power_demand'].plot(figsize=(15,4))\n"
   ]
  },
  {
   "cell_type": "code",
   "execution_count": 28,
   "metadata": {},
   "outputs": [
    {
     "data": {
      "image/png": "[encoded data removed]",
      "text/plain": [
       "<Figure size 1080x360 with 1 Axes>"
      ]
     },
     "metadata": {
      "needs_background": "light"
     },
     "output_type": "display_data"
    }
   ],
   "source": [
    "#AVERAGE SPOT PRICE\n",
    "\n",
    "plt.figure(figsize=(15,5))\n",
    "plt.plot(index, average_demands['spot_price'], 'aquamarine')\n",
    "plt.title(\"Hourly average spot price\", color = 'cornflowerblue', fontweight= 'bold', fontsize=14)\n",
    "plt.xlabel(\"Hour\")\n",
    "plt.ylabel(\"avg spot price\")\n",
    "plt.text(19,54,\"main peak\")\n",
    "plt.show()"
   ]
  },
  {
   "cell_type": "markdown",
   "metadata": {
    "ExecuteTime": {
     "end_time": "2020-03-06T21:37:24.835762Z",
     "start_time": "2020-03-06T21:37:24.831582Z"
    }
   },
   "source": [
    "#### Create a categorical variable called \"wind_category\" using the \"wind\" column\n",
    "Create 3 categories: low, mid, high"
   ]
  },
  {
   "cell_type": "code",
   "execution_count": 17,
   "metadata": {},
   "outputs": [],
   "source": [
    "categories = ['low','medium','high']\n",
    "energyDF['wind_category'] = pd.cut(energyDF['wind'], bins=3, labels=categories)\n",
    "#energyDF[energyDF['wind_category'] =='high'] "
   ]
  },
  {
   "cell_type": "markdown",
   "metadata": {},
   "source": [
    "#### Which is the power generation type that has generated the most energy? And the least?"
   ]
  },
  {
   "cell_type": "code",
   "execution_count": 18,
   "metadata": {
    "scrolled": true
   },
   "outputs": [],
   "source": [
    "generation_types = ['nuclear','gas','solar','hydro','coal','wind'] #create a list of power types\n",
    "generation = energyDF[[column for column in generation_types]] #get a miniDF with just these columns\n",
    "sums = generation.sum(axis=0,skipna=True) #make sum for all rows in a column, for all columns"
   ]
  },
  {
   "cell_type": "code",
   "execution_count": 19,
   "metadata": {},
   "outputs": [
    {
     "name": "stdout",
     "output_type": "stream",
     "text": [
      "The power geneation type that has generated most energy is nuclear. This is probably because plants operate continuously.\n"
     ]
    }
   ],
   "source": [
    "max_prod= sums.idxmax()\n",
    "\n",
    "print(f\"The power geneation type that has generated most energy is {max_prod}. This is probably because plants operate continuously.\")"
   ]
  },
  {
   "cell_type": "code",
   "execution_count": 20,
   "metadata": {},
   "outputs": [
    {
     "name": "stdout",
     "output_type": "stream",
     "text": [
      "The power type that generated the least energy is solar. This might be due to the fact that it is harder to 'control' solar power production\n"
     ]
    }
   ],
   "source": [
    "min_prod=sums.idxmin()\n",
    "print(f\"The power type that generated the least energy is {min_prod}. This might be due to the fact that it is harder to 'control' solar power production\")"
   ]
  }
 ],
 "metadata": {
  "kernelspec": {
   "display_name": "Python 3",
   "language": "python",
   "name": "python3"
  },
  "language_info": {
   "codemirror_mode": {
    "name": "ipython",
    "version": 3
   },
   "file_extension": ".py",
   "mimetype": "text/x-python",
   "name": "python",
   "nbconvert_exporter": "python",
   "pygments_lexer": "ipython3",
   "version": "3.7.6"
  },
  "toc": {
   "base_numbering": 1,
   "nav_menu": {},
   "number_sections": true,
   "sideBar": true,
   "skip_h1_title": false,
   "title_cell": "Table of Contents",
   "title_sidebar": "Contents",
   "toc_cell": false,
   "toc_position": {},
   "toc_section_display": true,
   "toc_window_display": false
  }
 },
 "nbformat": 4,
 "nbformat_minor": 2
}
